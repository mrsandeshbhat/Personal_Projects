{
 "cells": [
  {
   "cell_type": "markdown",
   "metadata": {},
   "source": [
    "# Motor Modelling for Selected Motor"
   ]
  },
  {
   "cell_type": "markdown",
   "metadata": {},
   "source": [
    "First, let us check the selected motor for the required parameters:(blue line is for 6V; red line is for 4.8V)"
   ]
  },
  {
   "cell_type": "code",
   "execution_count": null,
   "metadata": {},
   "outputs": [],
   "source": [
    "w_6 = 0.08 # seconds/60 degree\n",
    "w_4_8 = 0.1# seconds/60 degree\n",
    "\n",
    "t_6 = 1.5 # kg-cm\n",
    "t_4_8 = 1.3 # kg-cm\n",
    "\n",
    "\n",
    "w_6_SI = 60*math.pi/(180*w_6) #rad per second\n",
    "w_4_8_SI = 60*math.pi/(180*w_4_8) #rad per second\n",
    "\n",
    "t_6_SI = 0.0980665*t_6 # Nm\n",
    "t_4_8_SI = 0.0980665*t_4_8 # Nm"
   ]
  },
  {
   "cell_type": "code",
   "execution_count": null,
   "metadata": {},
   "outputs": [],
   "source": [
    "k_v6 = w_6/6\n",
    "k_v_48 = w_4_8/4.8"
   ]
  },
  {
   "cell_type": "code",
   "execution_count": null,
   "metadata": {},
   "outputs": [],
   "source": [
    "ii = np.r_[0:1:20j]\n",
    "w6 = ii*w_6_SI\n",
    "w48 = ii*w_4_8_SI"
   ]
  },
  {
   "cell_type": "code",
   "execution_count": null,
   "metadata": {},
   "outputs": [],
   "source": [
    "t6 = (1-ii)*t_6_SI\n",
    "t48 = (1-ii)*t_4_8_SI"
   ]
  },
  {
   "cell_type": "code",
   "execution_count": null,
   "metadata": {},
   "outputs": [],
   "source": [
    "plt.figure()\n",
    "plt.plot(w6,t6)\n",
    "plt.plot(w48,t48)\n",
    "plt.xlabel('$\\omega_{motor}$')\n",
    "plt.ylabel('$\\\\tau$')"
   ]
  },
  {
   "cell_type": "code",
   "execution_count": null,
   "metadata": {},
   "outputs": [],
   "source": [
    "p_mech6 = t6*w6\n",
    "p_mech48 = t48*w48\n",
    "plt.figure()\n",
    "plt.plot(w6,p_mech6)\n",
    "plt.plot(w48,p_mech48)\n",
    "plt.xlabel('$\\omega_{motor}$')\n",
    "plt.ylabel('$p_{mech}$')"
   ]
  },
  {
   "cell_type": "code",
   "execution_count": null,
   "metadata": {},
   "outputs": [],
   "source": [
    "i_running_6 = 0.22 # Amps\n",
    "i_running_48 = 0.2 # Amps\n",
    "i_stall_6 = 1.3 # Amps\n",
    "i_stall_48 = 1 # Apms\n",
    "\n",
    "kt6 = t_6_SI/(i_stall_6-i_running_6)\n",
    "kt48 = t_4_8_SI/(i_stall_48-i_running_48)\n",
    "\n",
    "i6 = 1/kt6*t6+i_running_6\n",
    "i48 = 1/kt48*t48+i_running_48\n",
    "\n",
    "p_elec6 = i6* 6\n",
    "p_elec48 = i48* 4.8\n",
    "\n",
    "plt.figure()\n",
    "plt.plot(w6,p_elec6)\n",
    "plt.plot(w48,p_elec48)\n",
    "plt.xlabel('$\\omega_{motor}$')\n",
    "plt.ylabel('$p_{electric}$')"
   ]
  },
  {
   "cell_type": "code",
   "execution_count": null,
   "metadata": {},
   "outputs": [],
   "source": [
    "efficiency6 = p_mech6/p_elec6*100\n",
    "efficiency48 = p_mech48/p_elec48*100\n",
    "\n",
    "plt.figure()\n",
    "plt.plot(w6,efficiency6)\n",
    "plt.plot(w48,efficiency48)\n",
    "plt.xlabel('$\\omega_{motor}$')\n",
    "plt.ylabel('eff')"
   ]
  },
  {
   "cell_type": "markdown",
   "metadata": {},
   "source": [
    "# Motor Model for 6V"
   ]
  },
  {
   "cell_type": "code",
   "execution_count": null,
   "metadata": {
    "scrolled": true
   },
   "outputs": [],
   "source": [
    "fig = plt.figure()\n",
    "ax1 = fig.add_subplot(111)\n",
    "\n",
    "p1 = ax1.plot(w6,t6, 'bo-')\n",
    "ax1.set_xlabel('speed (rad/sec)')\n",
    "# Make the y-axis label, ticks and tick labels match the line color.\n",
    "ax1.set_ylabel('torque (N-m)', color='b')\n",
    "ax1.tick_params('y', colors='b')\n",
    "\n",
    "ax2 = ax1.twinx()\n",
    "p2 = ax2.plot(w6,p_mech6, 'ro-.')\n",
    "ax2.set_ylabel('power (W)', color='r')\n",
    "ax2.tick_params('y', colors='r')\n",
    "\n",
    "ax3 = ax1.twinx()\n",
    "p3 = ax3.plot(w6,efficiency6, 'gx-.')\n",
    "ax3.set_ylabel('efficiency (%)', color='g')\n",
    "ax3.tick_params('y', colors='g')\n",
    "\n",
    "ax3.spines['right'].set_position(('outward', 60))  \n",
    "\n",
    "ax1.set_title('Motor Model at 6V')\n",
    "plt.show()"
   ]
  },
  {
   "cell_type": "code",
   "execution_count": null,
   "metadata": {},
   "outputs": [],
   "source": [
    "i6 = np.argmax(efficiency6)\n",
    "print('torque for maximum efficiency:')\n",
    "print(t6[i6])\n",
    "print('speed for maximum efficiency:')\n",
    "print(w6[i6])\n",
    "print('power for maximum efficiency:')\n",
    "print(p_mech6[i6])"
   ]
  },
  {
   "cell_type": "markdown",
   "metadata": {},
   "source": [
    "# Motor Model for 4.8V"
   ]
  },
  {
   "cell_type": "code",
   "execution_count": null,
   "metadata": {},
   "outputs": [],
   "source": [
    "fig = plt.figure()\n",
    "ax1 = fig.add_subplot(111)\n",
    "\n",
    "p1 = ax1.plot(w48,t48, 'bo-')\n",
    "ax1.set_xlabel('speed (rad/sec)')\n",
    "# Make the y-axis label, ticks and tick labels match the line color.\n",
    "ax1.set_ylabel('torque (N-m)', color='b')\n",
    "ax1.tick_params('y', colors='b')\n",
    "\n",
    "ax2 = ax1.twinx()\n",
    "p2 = ax2.plot(w48,p_mech48, 'ro-.')\n",
    "ax2.set_ylabel('power (W)', color='r')\n",
    "ax2.tick_params('y', colors='r')\n",
    "\n",
    "ax3 = ax1.twinx()\n",
    "p3 = ax3.plot(w48,efficiency48, 'gx-.')\n",
    "ax3.set_ylabel('efficiency (%)', color='g')\n",
    "ax3.tick_params('y', colors='g')\n",
    "\n",
    "ax3.spines['right'].set_position(('outward', 60))  \n",
    "\n",
    "ax1.set_title('Motor Model at 4.8V')\n",
    "plt.show()"
   ]
  },
  {
   "cell_type": "code",
   "execution_count": null,
   "metadata": {},
   "outputs": [],
   "source": [
    "#efficiency48.index(efficiency48.max())\n",
    "i48 = np.argmax(efficiency48)\n",
    "print('torque for maximum efficiency:')\n",
    "print(t48[i48])\n",
    "print('speed for maximum efficiency:')\n",
    "print(w48[i48])\n",
    "print('power for maximum efficiency:')\n",
    "print(p_mech48[i48])"
   ]
  },
  {
   "cell_type": "markdown",
   "metadata": {},
   "source": [
    "From the above plots it is clear that the maximum efficiency for the selected motor is higher at 6V. Now lets compare the required minimum values with the obtained values at maximum efficiency."
   ]
  },
  {
   "cell_type": "code",
   "execution_count": null,
   "metadata": {},
   "outputs": [],
   "source": [
    "print('maximum torque required by the mechanism')\n",
    "print(abs(t.min()))\n",
    "print('speed required by the mechanism')\n",
    "print(q_required_SI)\n",
    "print('Power required by the mechanism')\n",
    "print(P_required)"
   ]
  },
  {
   "cell_type": "markdown",
   "metadata": {},
   "source": [
    "By comparing the above two sets of values, it is obvious that the motor selected was over designed (as all the values are higher than required). The speed at which the motor should run for an optimum performance is 7.16503587661 rad/second. If some other operating speed is selected, efficiency decreases and that would mean more power is drawn out of the battery than is converted to mechanical power. This would lead to a bigger battery being needed. hence increasing cost and wieght of the robot."
   ]
  },
  {
   "cell_type": "markdown",
   "metadata": {},
   "source": [
    "Since a Servo motor  was designed in this article, Gear ratio will not be needed. But if a DC motor was selected, the gear train used with it would result in a change in the output parameters proportional by the gear ratio. That is an extra degree of freedom."
   ]
  },
  {
   "cell_type": "markdown",
   "metadata": {},
   "source": [
    "The Motor selected in the previous group homework was not considered here as all the parameters were not available on Sparkfun. Hence another motor close enough to it was selected from Pololu. The motor is theoretically good for the mechanism, but some real life experimentation is required to judge whether its operation is good enough for robot. "
   ]
  },
  {
   "cell_type": "code",
   "execution_count": null,
   "metadata": {},
   "outputs": [],
   "source": [
    "def motor_model(w_no_load,t_stall,i_free_running,i_stall):\n",
    "    w_6 = w_no_load  # rpm\n",
    "    t_6 = t_stall # oz-in\n",
    "    w_6_SI = w_6*math.pi/30 #rad per second\n",
    "    t_6_SI = 0.0070615518333333*t_6 # Nm\n",
    "    ii = np.r_[0:1:100j]\n",
    "    w6 = ii*w_6_SI\n",
    "    t6 = (1-ii)*t_6_SI\n",
    "    p_mech6 = t6*w6\n",
    "    i_running_6 = i_free_running/1000 # Amps\n",
    "    i_stall_6 = i_stall/1000 # Amps\n",
    "    kt6 = t_6_SI/(i_stall_6-i_running_6)\n",
    "    i6 = 1/kt6*t6+i_running_6\n",
    "    p_elec6 = i6*6\n",
    "    efficiency6 = p_mech6/p_elec6*100\n",
    "    i6 = np.argmax(efficiency6)\n",
    "    \n",
    "    print('torque for maximum efficiency:')\n",
    "    print(t6[i6])\n",
    "    print('speed for maximum efficiency:')\n",
    "    print(w6[i6])\n",
    "    print('power for maximum efficiency:')\n",
    "    print(p_mech6[i6])\n",
    "    \n",
    "    fig = plt.figure()\n",
    "    ax1 = fig.add_subplot(111)\n",
    "\n",
    "    p1 = ax1.plot(w6,t6, 'b-')\n",
    "    ax1.set_xlabel('speed (rad/sec)')\n",
    "    # Make the y-axis label, ticks and tick labels match the line color.\n",
    "    ax1.set_ylabel('torque (N-m)', color='b')\n",
    "    ax1.tick_params('y', colors='b')\n",
    "\n",
    "    ax2 = ax1.twinx()\n",
    "    p2 = ax2.plot(w6,p_mech6, 'r-.')\n",
    "    ax2.set_ylabel('power (W)', color='r')\n",
    "    ax2.tick_params('y', colors='r')\n",
    "\n",
    "    ax3 = ax1.twinx()\n",
    "    p3 = ax3.plot(w6,efficiency6, 'g-.')\n",
    "    ax3.set_ylabel('efficiency (%)', color='g')\n",
    "    ax3.tick_params('y', colors='g')\n",
    "\n",
    "    ax3.spines['right'].set_position(('outward', 60))  \n",
    "\n",
    "    ax1.set_title('Motor Model at 6V')\n",
    "    plt.show()"
   ]
  },
  {
   "cell_type": "code",
   "execution_count": null,
   "metadata": {},
   "outputs": [],
   "source": [
    "motor_model(90,41,40,700)"
   ]
  },
  {
   "cell_type": "code",
   "execution_count": null,
   "metadata": {},
   "outputs": [],
   "source": [
    "motor_model(4400,1.5,40,700)"
   ]
  }
 ],
 "metadata": {
  "kernelspec": {
   "display_name": "Python 3",
   "language": "python",
   "name": "python3"
  },
  "language_info": {
   "codemirror_mode": {
    "name": "ipython",
    "version": 3
   },
   "file_extension": ".py",
   "mimetype": "text/x-python",
   "name": "python",
   "nbconvert_exporter": "python",
   "pygments_lexer": "ipython3",
   "version": "3.6.3"
  }
 },
 "nbformat": 4,
 "nbformat_minor": 2
}
